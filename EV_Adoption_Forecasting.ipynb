{
 "cells": [
  {
   "cell_type": "code",
   "execution_count": 2,
   "id": "69928c41-b745-4bb6-9370-08adcdfaa4b9",
   "metadata": {},
   "outputs": [],
   "source": [
    "import joblib\n",
    "import numpy as np\n",
    "import pandas as pd\n",
    "import seaborn as sns\n",
    "import matplotlib.pyplot as plt\n",
    "from sklearn.preprocessing import LabelEncoder\n",
    "from sklearn.ensemble import RandomForestRegressor\n",
    "from sklearn.model_selection import train_test_split\n",
    "from sklearn.model_selection import RandomizedSearchCV\n",
    "from sklearn.metrics import mean_absolute_error, mean_squared_error, r2_score"
   ]
  },
  {
   "cell_type": "code",
   "execution_count": 3,
   "id": "95d0bd37-aa83-41c0-a626-ab31bf1f2c4a",
   "metadata": {},
   "outputs": [
    {
     "data": {
      "text/plain": [
       "'C:\\\\Users\\\\acer'"
      ]
     },
     "execution_count": 3,
     "metadata": {},
     "output_type": "execute_result"
    }
   ],
   "source": [
    "\n",
    "import os\n",
    "os.getcwd()\n"
   ]
  },
  {
   "cell_type": "code",
   "execution_count": 6,
   "id": "87225096-5305-4895-974f-49a7f391d491",
   "metadata": {},
   "outputs": [],
   "source": [
    "# Load data\n",
    "df = pd.read_csv(\"Electric_Vehicle_Population_Size_History_By_County_.csv\")"
   ]
  },
  {
   "cell_type": "code",
   "execution_count": 7,
   "id": "e0059f9d-262e-4376-8921-f41b9de2e6d4",
   "metadata": {},
   "outputs": [
    {
     "data": {
      "text/html": [
       "<div>\n",
       "<style scoped>\n",
       "    .dataframe tbody tr th:only-of-type {\n",
       "        vertical-align: middle;\n",
       "    }\n",
       "\n",
       "    .dataframe tbody tr th {\n",
       "        vertical-align: top;\n",
       "    }\n",
       "\n",
       "    .dataframe thead th {\n",
       "        text-align: right;\n",
       "    }\n",
       "</style>\n",
       "<table border=\"1\" class=\"dataframe\">\n",
       "  <thead>\n",
       "    <tr style=\"text-align: right;\">\n",
       "      <th></th>\n",
       "      <th>Date</th>\n",
       "      <th>County</th>\n",
       "      <th>State</th>\n",
       "      <th>Vehicle Primary Use</th>\n",
       "      <th>Battery Electric Vehicles (BEVs)</th>\n",
       "      <th>Plug-In Hybrid Electric Vehicles (PHEVs)</th>\n",
       "      <th>Electric Vehicle (EV) Total</th>\n",
       "      <th>Non-Electric Vehicle Total</th>\n",
       "      <th>Total Vehicles</th>\n",
       "      <th>Percent Electric Vehicles</th>\n",
       "    </tr>\n",
       "  </thead>\n",
       "  <tbody>\n",
       "    <tr>\n",
       "      <th>0</th>\n",
       "      <td>September 30 2022</td>\n",
       "      <td>Riverside</td>\n",
       "      <td>CA</td>\n",
       "      <td>Passenger</td>\n",
       "      <td>7</td>\n",
       "      <td>0</td>\n",
       "      <td>7</td>\n",
       "      <td>460</td>\n",
       "      <td>467</td>\n",
       "      <td>1.50</td>\n",
       "    </tr>\n",
       "    <tr>\n",
       "      <th>1</th>\n",
       "      <td>December 31 2022</td>\n",
       "      <td>Prince William</td>\n",
       "      <td>VA</td>\n",
       "      <td>Passenger</td>\n",
       "      <td>1</td>\n",
       "      <td>2</td>\n",
       "      <td>3</td>\n",
       "      <td>188</td>\n",
       "      <td>191</td>\n",
       "      <td>1.57</td>\n",
       "    </tr>\n",
       "    <tr>\n",
       "      <th>2</th>\n",
       "      <td>January 31 2020</td>\n",
       "      <td>Dakota</td>\n",
       "      <td>MN</td>\n",
       "      <td>Passenger</td>\n",
       "      <td>0</td>\n",
       "      <td>1</td>\n",
       "      <td>1</td>\n",
       "      <td>32</td>\n",
       "      <td>33</td>\n",
       "      <td>3.03</td>\n",
       "    </tr>\n",
       "    <tr>\n",
       "      <th>3</th>\n",
       "      <td>June 30 2022</td>\n",
       "      <td>Ferry</td>\n",
       "      <td>WA</td>\n",
       "      <td>Truck</td>\n",
       "      <td>0</td>\n",
       "      <td>0</td>\n",
       "      <td>0</td>\n",
       "      <td>3,575</td>\n",
       "      <td>3,575</td>\n",
       "      <td>0.00</td>\n",
       "    </tr>\n",
       "    <tr>\n",
       "      <th>4</th>\n",
       "      <td>July 31 2021</td>\n",
       "      <td>Douglas</td>\n",
       "      <td>CO</td>\n",
       "      <td>Passenger</td>\n",
       "      <td>0</td>\n",
       "      <td>1</td>\n",
       "      <td>1</td>\n",
       "      <td>83</td>\n",
       "      <td>84</td>\n",
       "      <td>1.19</td>\n",
       "    </tr>\n",
       "  </tbody>\n",
       "</table>\n",
       "</div>"
      ],
      "text/plain": [
       "                Date          County State Vehicle Primary Use  \\\n",
       "0  September 30 2022       Riverside    CA           Passenger   \n",
       "1   December 31 2022  Prince William    VA           Passenger   \n",
       "2    January 31 2020          Dakota    MN           Passenger   \n",
       "3       June 30 2022           Ferry    WA               Truck   \n",
       "4       July 31 2021         Douglas    CO           Passenger   \n",
       "\n",
       "  Battery Electric Vehicles (BEVs) Plug-In Hybrid Electric Vehicles (PHEVs)  \\\n",
       "0                                7                                        0   \n",
       "1                                1                                        2   \n",
       "2                                0                                        1   \n",
       "3                                0                                        0   \n",
       "4                                0                                        1   \n",
       "\n",
       "  Electric Vehicle (EV) Total Non-Electric Vehicle Total Total Vehicles  \\\n",
       "0                           7                        460            467   \n",
       "1                           3                        188            191   \n",
       "2                           1                         32             33   \n",
       "3                           0                      3,575          3,575   \n",
       "4                           1                         83             84   \n",
       "\n",
       "   Percent Electric Vehicles  \n",
       "0                       1.50  \n",
       "1                       1.57  \n",
       "2                       3.03  \n",
       "3                       0.00  \n",
       "4                       1.19  "
      ]
     },
     "execution_count": 7,
     "metadata": {},
     "output_type": "execute_result"
    }
   ],
   "source": [
    "df.head() # top 5 rows"
   ]
  },
  {
   "cell_type": "code",
   "execution_count": 8,
   "id": "56bbf5a1-06d4-4ae0-b696-dbedde2abb6c",
   "metadata": {},
   "outputs": [
    {
     "data": {
      "text/plain": [
       "(17932, 10)"
      ]
     },
     "execution_count": 8,
     "metadata": {},
     "output_type": "execute_result"
    }
   ],
   "source": [
    "# no of rows and cols\n",
    "df.shape"
   ]
  },
  {
   "cell_type": "code",
   "execution_count": 9,
   "id": "07f889b8-8c58-45e5-a685-12e6d3706e99",
   "metadata": {},
   "outputs": [
    {
     "name": "stdout",
     "output_type": "stream",
     "text": [
      "<class 'pandas.core.frame.DataFrame'>\n",
      "RangeIndex: 17932 entries, 0 to 17931\n",
      "Data columns (total 10 columns):\n",
      " #   Column                                    Non-Null Count  Dtype  \n",
      "---  ------                                    --------------  -----  \n",
      " 0   Date                                      17932 non-null  object \n",
      " 1   County                                    17853 non-null  object \n",
      " 2   State                                     17852 non-null  object \n",
      " 3   Vehicle Primary Use                       17931 non-null  object \n",
      " 4   Battery Electric Vehicles (BEVs)          17931 non-null  object \n",
      " 5   Plug-In Hybrid Electric Vehicles (PHEVs)  17931 non-null  object \n",
      " 6   Electric Vehicle (EV) Total               17931 non-null  object \n",
      " 7   Non-Electric Vehicle Total                17931 non-null  object \n",
      " 8   Total Vehicles                            17931 non-null  object \n",
      " 9   Percent Electric Vehicles                 17931 non-null  float64\n",
      "dtypes: float64(1), object(9)\n",
      "memory usage: 1.4+ MB\n"
     ]
    }
   ],
   "source": [
    "# Data Types, class and memory alloc\n",
    "df.info()"
   ]
  },
  {
   "cell_type": "code",
   "execution_count": 10,
   "id": "669e2136-c257-4a14-ac13-e5017bdefdc3",
   "metadata": {},
   "outputs": [
    {
     "data": {
      "text/plain": [
       "Date                                         0\n",
       "County                                      79\n",
       "State                                       80\n",
       "Vehicle Primary Use                          1\n",
       "Battery Electric Vehicles (BEVs)             1\n",
       "Plug-In Hybrid Electric Vehicles (PHEVs)     1\n",
       "Electric Vehicle (EV) Total                  1\n",
       "Non-Electric Vehicle Total                   1\n",
       "Total Vehicles                               1\n",
       "Percent Electric Vehicles                    1\n",
       "dtype: int64"
      ]
     },
     "execution_count": 10,
     "metadata": {},
     "output_type": "execute_result"
    }
   ],
   "source": [
    "df.isnull().sum()"
   ]
  },
  {
   "cell_type": "code",
   "execution_count": 11,
   "id": "5add27ff-062d-491d-9ced-3b651f9519de",
   "metadata": {},
   "outputs": [
    {
     "name": "stdout",
     "output_type": "stream",
     "text": [
      "lower_bound: -3.5100000000000002\n",
      "upper_bound: 6.890000000000001\n",
      "Number of outliers in 'Percent Electric Vehicles': 2148\n"
     ]
    }
   ],
   "source": [
    "# Compute Q1 and Q3\n",
    "Q1 = df['Percent Electric Vehicles'].quantile(0.25)\n",
    "Q3 = df['Percent Electric Vehicles'].quantile(0.75)\n",
    "IQR = Q3 - Q1\n",
    "\n",
    "# Define outlier boundaries\n",
    "lower_bound = Q1 - 1.5 * IQR\n",
    "upper_bound = Q3 + 1.5 * IQR\n",
    "print('lower_bound:', lower_bound)\n",
    "print('upper_bound:', upper_bound)\n",
    "\n",
    "# Identify outliers\n",
    "outliers = df[(df['Percent Electric Vehicles'] < lower_bound) | (df['Percent Electric Vehicles'] > upper_bound)]\n",
    "print(\"Number of outliers in 'Percent Electric Vehicles':\", outliers.shape[0])"
   ]
  },
  {
   "cell_type": "code",
   "execution_count": 12,
   "id": "c18eaac2-19f3-4cfe-81c3-17fe76020f73",
   "metadata": {},
   "outputs": [
    {
     "name": "stdout",
     "output_type": "stream",
     "text": [
      "Missing after fill:\n",
      "County    0\n",
      "State     0\n",
      "dtype: int64\n"
     ]
    },
    {
     "data": {
      "text/html": [
       "<div>\n",
       "<style scoped>\n",
       "    .dataframe tbody tr th:only-of-type {\n",
       "        vertical-align: middle;\n",
       "    }\n",
       "\n",
       "    .dataframe tbody tr th {\n",
       "        vertical-align: top;\n",
       "    }\n",
       "\n",
       "    .dataframe thead th {\n",
       "        text-align: right;\n",
       "    }\n",
       "</style>\n",
       "<table border=\"1\" class=\"dataframe\">\n",
       "  <thead>\n",
       "    <tr style=\"text-align: right;\">\n",
       "      <th></th>\n",
       "      <th>Date</th>\n",
       "      <th>County</th>\n",
       "      <th>State</th>\n",
       "      <th>Vehicle Primary Use</th>\n",
       "      <th>Battery Electric Vehicles (BEVs)</th>\n",
       "      <th>Plug-In Hybrid Electric Vehicles (PHEVs)</th>\n",
       "      <th>Electric Vehicle (EV) Total</th>\n",
       "      <th>Non-Electric Vehicle Total</th>\n",
       "      <th>Total Vehicles</th>\n",
       "      <th>Percent Electric Vehicles</th>\n",
       "    </tr>\n",
       "  </thead>\n",
       "  <tbody>\n",
       "    <tr>\n",
       "      <th>0</th>\n",
       "      <td>2022-09-30</td>\n",
       "      <td>Riverside</td>\n",
       "      <td>CA</td>\n",
       "      <td>Passenger</td>\n",
       "      <td>7</td>\n",
       "      <td>0</td>\n",
       "      <td>7</td>\n",
       "      <td>460</td>\n",
       "      <td>467</td>\n",
       "      <td>1.50</td>\n",
       "    </tr>\n",
       "    <tr>\n",
       "      <th>1</th>\n",
       "      <td>2022-12-31</td>\n",
       "      <td>Prince William</td>\n",
       "      <td>VA</td>\n",
       "      <td>Passenger</td>\n",
       "      <td>1</td>\n",
       "      <td>2</td>\n",
       "      <td>3</td>\n",
       "      <td>188</td>\n",
       "      <td>191</td>\n",
       "      <td>1.57</td>\n",
       "    </tr>\n",
       "    <tr>\n",
       "      <th>2</th>\n",
       "      <td>2020-01-31</td>\n",
       "      <td>Dakota</td>\n",
       "      <td>MN</td>\n",
       "      <td>Passenger</td>\n",
       "      <td>0</td>\n",
       "      <td>1</td>\n",
       "      <td>1</td>\n",
       "      <td>32</td>\n",
       "      <td>33</td>\n",
       "      <td>3.03</td>\n",
       "    </tr>\n",
       "    <tr>\n",
       "      <th>3</th>\n",
       "      <td>2022-06-30</td>\n",
       "      <td>Ferry</td>\n",
       "      <td>WA</td>\n",
       "      <td>Truck</td>\n",
       "      <td>0</td>\n",
       "      <td>0</td>\n",
       "      <td>0</td>\n",
       "      <td>3,575</td>\n",
       "      <td>3,575</td>\n",
       "      <td>0.00</td>\n",
       "    </tr>\n",
       "    <tr>\n",
       "      <th>4</th>\n",
       "      <td>2021-07-31</td>\n",
       "      <td>Douglas</td>\n",
       "      <td>CO</td>\n",
       "      <td>Passenger</td>\n",
       "      <td>0</td>\n",
       "      <td>1</td>\n",
       "      <td>1</td>\n",
       "      <td>83</td>\n",
       "      <td>84</td>\n",
       "      <td>1.19</td>\n",
       "    </tr>\n",
       "  </tbody>\n",
       "</table>\n",
       "</div>"
      ],
      "text/plain": [
       "        Date          County State Vehicle Primary Use  \\\n",
       "0 2022-09-30       Riverside    CA           Passenger   \n",
       "1 2022-12-31  Prince William    VA           Passenger   \n",
       "2 2020-01-31          Dakota    MN           Passenger   \n",
       "3 2022-06-30           Ferry    WA               Truck   \n",
       "4 2021-07-31         Douglas    CO           Passenger   \n",
       "\n",
       "  Battery Electric Vehicles (BEVs) Plug-In Hybrid Electric Vehicles (PHEVs)  \\\n",
       "0                                7                                        0   \n",
       "1                                1                                        2   \n",
       "2                                0                                        1   \n",
       "3                                0                                        0   \n",
       "4                                0                                        1   \n",
       "\n",
       "  Electric Vehicle (EV) Total Non-Electric Vehicle Total Total Vehicles  \\\n",
       "0                           7                        460            467   \n",
       "1                           3                        188            191   \n",
       "2                           1                         32             33   \n",
       "3                           0                      3,575          3,575   \n",
       "4                           1                         83             84   \n",
       "\n",
       "   Percent Electric Vehicles  \n",
       "0                       1.50  \n",
       "1                       1.57  \n",
       "2                       3.03  \n",
       "3                       0.00  \n",
       "4                       1.19  "
      ]
     },
     "execution_count": 12,
     "metadata": {},
     "output_type": "execute_result"
    }
   ],
   "source": [
    "# Converts the \"Date\" column to actual datetime objects\n",
    "df['Date'] = pd.to_datetime(df['Date'], errors='coerce')\n",
    "\n",
    "# Removes rows where \"Date\" conversion failed\n",
    "df = df[df['Date'].notnull()]\n",
    "\n",
    "# Removes rows where the target (EV Total) is missing\n",
    "df = df[df['Electric Vehicle (EV) Total'].notnull()]\n",
    "\n",
    "# Fill missing values\n",
    "df['County'] = df['County'].fillna('Unknown')\n",
    "df['State'] = df['State'].fillna('Unknown')\n",
    "\n",
    "# Confirm remaining nulls\n",
    "print(\"Missing after fill:\")\n",
    "print(df[['County', 'State']].isnull().sum())\n",
    "\n",
    "df.head()"
   ]
  },
  {
   "cell_type": "code",
   "execution_count": 13,
   "id": "3dd97cf6-a457-440f-b34b-81d081342f40",
   "metadata": {},
   "outputs": [
    {
     "name": "stdout",
     "output_type": "stream",
     "text": [
      "Number of outliers in 'Percent Electric Vehicles': 0\n"
     ]
    }
   ],
   "source": [
    "# Cap the outliers - it keeps all the data while reducing the skew from extreme values.\n",
    "\n",
    "df['Percent Electric Vehicles'] = np.where(df['Percent Electric Vehicles'] > upper_bound, upper_bound,\n",
    "                                 np.where(df['Percent Electric Vehicles'] < lower_bound, lower_bound, df['Percent Electric Vehicles']))\n",
    "\n",
    "# Identify outliers\n",
    "outliers = df[(df['Percent Electric Vehicles'] < lower_bound) | (df['Percent Electric Vehicles'] > upper_bound)]\n",
    "print(\"Number of outliers in 'Percent Electric Vehicles':\", outliers.shape[0])"
   ]
  },
  {
   "cell_type": "code",
   "execution_count": null,
   "id": "56e4d599-076d-46f7-afcc-5c5d758c214a",
   "metadata": {},
   "outputs": [],
   "source": []
  }
 ],
 "metadata": {
  "kernelspec": {
   "display_name": "Python 3 (ipykernel)",
   "language": "python",
   "name": "python3"
  },
  "language_info": {
   "codemirror_mode": {
    "name": "ipython",
    "version": 3
   },
   "file_extension": ".py",
   "mimetype": "text/x-python",
   "name": "python",
   "nbconvert_exporter": "python",
   "pygments_lexer": "ipython3",
   "version": "3.12.0"
  }
 },
 "nbformat": 4,
 "nbformat_minor": 5
}
